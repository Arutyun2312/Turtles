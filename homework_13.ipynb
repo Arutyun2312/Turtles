{
 "cells": [
  {
   "cell_type": "code",
   "execution_count": 9,
   "id": "c711bfd2-fe15-4426-bcb4-ed26c8280e6d",
   "metadata": {
    "pycharm": {
     "is_executing": false
    }
   },
   "outputs": [],
   "source": [
    "import scipy.stats as stats\n",
    "import numpy as np"
   ]
  },
  {
   "cell_type": "markdown",
   "id": "3fb54dbe-a536-48d7-b9a7-1e2de327914f",
   "metadata": {
    "pycharm": {
     "name": "#%% md\n"
    }
   },
   "source": [
    "## Multiple testing and correction\n",
    "\n",
    "**Example.** Suppose we have a list of cities with the car driver velocities on weekdays and weekends. \n",
    "Test if the driving behavior in each city is different on weekdays as compared to weekends.\n",
    "We take $H_0$: no difference in driving behavior and test it against $H_1$: driving behavior is\n",
    "different at weekdays and weekends for a given city. You should use permutation test\n",
    "for the difference in means."
   ]
  },
  {
   "cell_type": "markdown",
   "id": "2c946782-7e55-4ad4-adf8-fe7b7bad52b8",
   "metadata": {},
   "source": [
    "We will generate our own dataset by generating car velocities at weekdays and weekends for \n",
    "a number of cities. We will repeat the experiment two times:\n",
    "1. In the first experiment the driving behavior will be same at weekdays and weekends.\n",
    "2. In the second experiment with probability p=0.05 the velocities at weekdays and weekends will \n",
    "come from different distributions.\n",
    "\n",
    "You should test for $H_0$ vs. $H_1$ for both cases once without correction and once with correction. Use the permutation test and compute the p-value. Make sure that you resample enough times to obtain good approximations for the p-value. Check the slides to learn about the permutation test and the correction.\n",
    "\n",
    "Check how many times your test states that the driving behavior is different for both cases (1) and (2). What can you conclude from your results?"
   ]
  },
  {
   "cell_type": "code",
   "execution_count": 12,
   "id": "89e8ae39-b062-4e0b-bbda-76605c2d8dae",
   "metadata": {
    "collapsed": false,
    "jupyter": {
     "outputs_hidden": false
    },
    "pycharm": {
     "is_executing": false,
     "name": "#%%\n"
    }
   },
   "outputs": [
    {
     "name": "stdout",
     "output_type": "stream",
     "text": [
      "17 12 7\n"
     ]
    }
   ],
   "source": [
    "import scipy.stats as stats\n",
    "import numpy as np\n",
    "\n",
    "n_cities, n, m, p = 100, 100, 40, 0.05\n",
    "mu_weekdays, mu_weekends, sigma, a = 50, 100, 5, 0.05\n",
    "\n",
    "def mean_diff(x, y):\n",
    "    return abs(np.mean(x) - np.mean(y))\n",
    "\n",
    "def permutation_test(x: list[float], y: list[float], b=10000):\n",
    "    ground_truth = mean_diff(x, y)\n",
    "    \n",
    "    pool = list(x) + list(y)\n",
    "    mid = int(len(pool) / 2)\n",
    "    count = 0\n",
    "    for _ in range(b):\n",
    "        np.random.shuffle(pool)\n",
    "        diff = mean_diff(pool[:mid], pool[mid:])\n",
    "        count += int(diff >= ground_truth)\n",
    "\n",
    "    p_value = (count + 1) / (b + 1)\n",
    "    return p_value\n",
    "\n",
    "count_rejected_exp1, count_rejected_exp2, count_different = 0, 0, 0\n",
    "for _ in range(n_cities):\n",
    "    x = stats.norm.rvs(loc=mu_weekdays, scale=sigma, size=n)\n",
    "    \n",
    "    # experiment 1: same behavior\n",
    "    y1 = stats.norm.rvs(loc=mu_weekdays, scale=sigma, size=m)\n",
    "\n",
    "    p_value = permutation_test(x, y1)\n",
    "    reject = p_value < a\n",
    "    count_rejected_exp1 += int(reject)\n",
    "    \n",
    "    # experiment 2: different behavior in 5% of the cases. 6 10 4; 10 12 5\n",
    "    if np.random.rand() <= p:\n",
    "        y2 = stats.norm.rvs(loc=mu_weekends, scale=sigma, size=m)\n",
    "        count_different += 1\n",
    "    else:\n",
    "        y2 = stats.norm.rvs(loc=mu_weekdays, scale=sigma, size=m)\n",
    "\n",
    "    p_value = permutation_test(x, y2)\n",
    "    reject = p_value < a\n",
    "    count_rejected_exp2 += int(reject)\n",
    "\n",
    "print(count_rejected_exp1, count_rejected_exp2, count_different)\n",
    "\n",
    "    "
   ]
  }
 ],
 "metadata": {
  "kernelspec": {
   "display_name": "Python 3",
   "language": "python",
   "name": "python3"
  },
  "language_info": {
   "codemirror_mode": {
    "name": "ipython",
    "version": 3
   },
   "file_extension": ".py",
   "mimetype": "text/x-python",
   "name": "python",
   "nbconvert_exporter": "python",
   "pygments_lexer": "ipython3",
   "version": "3.9.4 (v3.9.4:1f2e3088f3, Apr  4 2021, 12:32:44) \n[Clang 6.0 (clang-600.0.57)]"
  },
  "vscode": {
   "interpreter": {
    "hash": "aee8b7b246df8f9039afb4144a1f6fd8d2ca17a180786b69acc140d282b71a49"
   }
  }
 },
 "nbformat": 4,
 "nbformat_minor": 5
}
